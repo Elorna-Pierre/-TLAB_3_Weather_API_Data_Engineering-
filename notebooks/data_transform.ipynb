{
 "cells": [
  {
   "cell_type": "code",
   "execution_count": 138,
   "metadata": {},
   "outputs": [
    {
     "data": {
      "text/html": [
       "<div>\n",
       "<style scoped>\n",
       "    .dataframe tbody tr th:only-of-type {\n",
       "        vertical-align: middle;\n",
       "    }\n",
       "\n",
       "    .dataframe tbody tr th {\n",
       "        vertical-align: top;\n",
       "    }\n",
       "\n",
       "    .dataframe thead th {\n",
       "        text-align: right;\n",
       "    }\n",
       "</style>\n",
       "<table border=\"1\" class=\"dataframe\">\n",
       "  <thead>\n",
       "    <tr style=\"text-align: right;\">\n",
       "      <th></th>\n",
       "      <th>temperature_2m</th>\n",
       "      <th>relative_humidity_2m</th>\n",
       "      <th>precipitation</th>\n",
       "      <th>surface_pressure</th>\n",
       "    </tr>\n",
       "    <tr>\n",
       "      <th>time</th>\n",
       "      <th></th>\n",
       "      <th></th>\n",
       "      <th></th>\n",
       "      <th></th>\n",
       "    </tr>\n",
       "  </thead>\n",
       "  <tbody>\n",
       "    <tr>\n",
       "      <th>2022-01-31</th>\n",
       "      <td>19.10</td>\n",
       "      <td>92.0</td>\n",
       "      <td>0.1</td>\n",
       "      <td>908.7</td>\n",
       "    </tr>\n",
       "    <tr>\n",
       "      <th>2022-02-28</th>\n",
       "      <td>19.10</td>\n",
       "      <td>92.0</td>\n",
       "      <td>0.0</td>\n",
       "      <td>909.2</td>\n",
       "    </tr>\n",
       "    <tr>\n",
       "      <th>2022-03-31</th>\n",
       "      <td>19.80</td>\n",
       "      <td>84.0</td>\n",
       "      <td>0.0</td>\n",
       "      <td>910.1</td>\n",
       "    </tr>\n",
       "    <tr>\n",
       "      <th>2022-04-30</th>\n",
       "      <td>18.45</td>\n",
       "      <td>83.0</td>\n",
       "      <td>0.0</td>\n",
       "      <td>911.4</td>\n",
       "    </tr>\n",
       "    <tr>\n",
       "      <th>2022-05-31</th>\n",
       "      <td>14.80</td>\n",
       "      <td>79.0</td>\n",
       "      <td>0.0</td>\n",
       "      <td>912.3</td>\n",
       "    </tr>\n",
       "  </tbody>\n",
       "</table>\n",
       "</div>"
      ],
      "text/plain": [
       "            temperature_2m  relative_humidity_2m  precipitation  \\\n",
       "time                                                              \n",
       "2022-01-31           19.10                  92.0            0.1   \n",
       "2022-02-28           19.10                  92.0            0.0   \n",
       "2022-03-31           19.80                  84.0            0.0   \n",
       "2022-04-30           18.45                  83.0            0.0   \n",
       "2022-05-31           14.80                  79.0            0.0   \n",
       "\n",
       "            surface_pressure  \n",
       "time                          \n",
       "2022-01-31             908.7  \n",
       "2022-02-28             909.2  \n",
       "2022-03-31             910.1  \n",
       "2022-04-30             911.4  \n",
       "2022-05-31             912.3  "
      ]
     },
     "execution_count": 138,
     "metadata": {},
     "output_type": "execute_result"
    }
   ],
   "source": [
    "import pandas as pd\n",
    "import matplotlib.pyplot as plt\n",
    "import seaborn as sns\n",
    "\n",
    "# Load the weather dataset\n",
    "df = pd.read_csv(\"/Users/sa3/Desktop/TLAB3/csv/weather_data.csv\")\n",
    "\n",
    "# Drop null values\n",
    "df.dropna(inplace=True)\n",
    "\n",
    "# Convert time column to datetime format\n",
    "df[\"time\"] = pd.to_datetime(df[\"time\"])\n",
    "\n",
    "# Set time as the index\n",
    "df.set_index(\"time\", inplace=True)\n",
    "\n",
    "df.head()\n"
   ]
  },
  {
   "cell_type": "code",
   "execution_count": 139,
   "metadata": {},
   "outputs": [
    {
     "name": "stdout",
     "output_type": "stream",
     "text": [
      "Monthly Medians Preview:\n",
      "             temperature_2m  relative_humidity_2m  precipitation  \\\n",
      "time                                                              \n",
      "2022-01-31           19.10                  92.0            0.1   \n",
      "2022-02-28           19.10                  92.0            0.0   \n",
      "2022-03-31           19.80                  84.0            0.0   \n",
      "2022-04-30           18.45                  83.0            0.0   \n",
      "2022-05-31           14.80                  79.0            0.0   \n",
      "\n",
      "            surface_pressure  \n",
      "time                          \n",
      "2022-01-31             908.7  \n",
      "2022-02-28             909.2  \n",
      "2022-03-31             910.1  \n",
      "2022-04-30             911.4  \n",
      "2022-05-31             912.3  \n"
     ]
    },
    {
     "name": "stderr",
     "output_type": "stream",
     "text": [
      "/var/folders/z4/2rstd0cd6mbfdq_6f5c_3m_r0000gn/T/ipykernel_23450/4074319018.py:2: FutureWarning: 'M' is deprecated and will be removed in a future version, please use 'ME' instead.\n",
      "  monthly_medians = df.resample(\"M\").median()\n"
     ]
    }
   ],
   "source": [
    "#Calculated Monthly Medians\n",
    "monthly_medians = df.resample(\"M\").median()\n",
    "print(\"Monthly Medians Preview:\\n\", monthly_medians.head()) \n",
    "\n",
    "# Save to CSV\n",
    "monthly_medians.to_csv(\"/Users/sa3/Desktop/TLAB3/csv/weather_data.csv\")\n",
    "\n",
    "\n"
   ]
  },
  {
   "cell_type": "code",
   "execution_count": 140,
   "metadata": {},
   "outputs": [
    {
     "name": "stdout",
     "output_type": "stream",
     "text": [
      "Yearly Medians Preview:\n",
      "             temperature_2m  relative_humidity_2m  precipitation  \\\n",
      "time                                                              \n",
      "2022-12-31          18.700                 78.50            0.0   \n",
      "2023-12-31          21.075                 76.75            0.0   \n",
      "\n",
      "            surface_pressure  \n",
      "time                          \n",
      "2022-12-31           911.100  \n",
      "2023-12-31           913.075  \n"
     ]
    },
    {
     "name": "stderr",
     "output_type": "stream",
     "text": [
      "/var/folders/z4/2rstd0cd6mbfdq_6f5c_3m_r0000gn/T/ipykernel_23450/3855191422.py:2: FutureWarning: 'Y' is deprecated and will be removed in a future version, please use 'YE' instead.\n",
      "  yearly_medians = df.resample(\"Y\").median()\n"
     ]
    }
   ],
   "source": [
    "#Calculate Yearly Medians\n",
    "yearly_medians = df.resample(\"Y\").median()\n",
    "print(\"Yearly Medians Preview:\\n\", yearly_medians.head()) \n",
    "\n",
    "# Save to CSV\n",
    "yearly_medians.to_csv(\"/Users/sa3/Desktop/TLAB3/csv/yearly_medians.csv\")\n"
   ]
  },
  {
   "cell_type": "code",
   "execution_count": 141,
   "metadata": {},
   "outputs": [],
   "source": [
    "#Merge yearly weather data with harvest data, load harvest dataset and drop null values\n",
    "\n",
    "harvest_df = pd.read_csv(\"/Users/sa3/Desktop/TLAB3/csv/yearly_medians.csv\")\n",
    "harvest_df.dropna(inplace=True)\n",
    "\n",
    "\n",
    "\n"
   ]
  },
  {
   "cell_type": "code",
   "execution_count": 142,
   "metadata": {},
   "outputs": [
    {
     "name": "stdout",
     "output_type": "stream",
     "text": [
      "Merged Data:\n",
      "             temperature_2m_x  relative_humidity_2m_x  precipitation_x  \\\n",
      "time                                                                    \n",
      "2022-12-31            18.700                   78.50              0.0   \n",
      "2023-12-31            21.075                   76.75              0.0   \n",
      "\n",
      "            surface_pressure_x  temperature_2m_y  relative_humidity_2m_y  \\\n",
      "time                                                                       \n",
      "2022-12-31             911.100            18.700                   78.50   \n",
      "2023-12-31             913.075            21.075                   76.75   \n",
      "\n",
      "            precipitation_y  surface_pressure_y  \n",
      "time                                             \n",
      "2022-12-31              0.0             911.100  \n",
      "2023-12-31              0.0             913.075  \n"
     ]
    }
   ],
   "source": [
    "# Convert time to datetime format\n",
    "harvest_df[\"time\"] = pd.to_datetime(harvest_df[\"time\"])\n",
    "harvest_df.set_index(\"time\", inplace=True)\n",
    "\n",
    "# Merge the two datasets\n",
    "merged_df = pd.merge(harvest_df, yearly_medians, left_index=True, right_index=True)\n",
    "print(\"Merged Data:\\n\", merged_df.head()) \n"
   ]
  },
  {
   "cell_type": "code",
   "execution_count": 143,
   "metadata": {},
   "outputs": [],
   "source": [
    "# Save to CSV\n",
    "merged_df.to_csv(\"/Users/sa3/Desktop/TLAB3/csv/merged_data.csv\")\n",
    "\n",
    "\n",
    "\n",
    "                "
   ]
  }
 ],
 "metadata": {
  "kernelspec": {
   "display_name": "base",
   "language": "python",
   "name": "python3"
  },
  "language_info": {
   "codemirror_mode": {
    "name": "ipython",
    "version": 3
   },
   "file_extension": ".py",
   "mimetype": "text/x-python",
   "name": "python",
   "nbconvert_exporter": "python",
   "pygments_lexer": "ipython3",
   "version": "3.12.4"
  }
 },
 "nbformat": 4,
 "nbformat_minor": 2
}
